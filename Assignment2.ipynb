{
 "cells": [
  {
   "cell_type": "code",
   "execution_count": null,
   "metadata": {},
   "outputs": [],
   "source": [
    "http://localhost:8888/notebooks/FSDS_Bootcamp_Assignment_2_Oct_01.ipynb# link of Assignment "
   ]
  },
  {
   "cell_type": "markdown",
   "metadata": {
    "id": "B5DPG7T6A5kP"
   },
   "source": [
    "1. What is indentation error? Why indentation is important? Give one simple example?\n",
    "\n",
    "Ans:\n",
    "\n",
    "* An indentation refers to the spaces at the beginning of a code line.\n",
    "* The indentation makes the code simple for undarstanding.\n",
    "* Python uses indentation to indicate a particular block of code.\n",
    "* Example: In below example, the interpreter is giving an indentation error. Print statement is a part of 'if' block. To resolve it, we can give on tab space."
   ]
  },
  {
   "cell_type": "code",
   "execution_count": null,
   "metadata": {
    "colab": {
     "base_uri": "https://localhost:8080/",
     "height": 130
    },
    "id": "Dt6mGEe1CTxm",
    "outputId": "a04d9f40-42bd-4853-93ed-0f68e65c5bc0"
   },
   "outputs": [
    {
     "ename": "IndentationError",
     "evalue": "ignored",
     "output_type": "error",
     "traceback": [
      "\u001b[0;36m  File \u001b[0;32m\"<ipython-input-1-a314491c53bb>\"\u001b[0;36m, line \u001b[0;32m2\u001b[0m\n\u001b[0;31m    print(\"Five is greater than two!\")\u001b[0m\n\u001b[0m        ^\u001b[0m\n\u001b[0;31mIndentationError\u001b[0m\u001b[0;31m:\u001b[0m expected an indented block\n"
     ]
    }
   ],
   "source": [
    "if 5 > 2:\n",
    "print(\"Five is greater than two!\")"
   ]
  },
  {
   "cell_type": "code",
   "execution_count": null,
   "metadata": {
    "id": "nIWMyGx-DG3Z"
   },
   "outputs": [],
   "source": [
    "if 5 > 2:\n",
    "  print(\"Five is greater than two!\")"
   ]
  },
  {
   "cell_type": "markdown",
   "metadata": {
    "id": "aVZHjpZHDJpj"
   },
   "source": [
    "2. Correct the following code and write the comment where you made the correction?\n",
    "\n",
    "  ```python\n",
    "  class_started = bool(input(\"Hey friend, is class started?: [0-False/1-True]\"))\n",
    "\n",
    "  if class_started:\n",
    "      print(\"Since class started...\")\n",
    "      print(\"Lets concentrate\")\n",
    "  else:\n",
    "      print(\"Since class is not started...\")\n",
    "      print(\"let's revise\")    \n",
    "  ```\n",
    "\n",
    "  Ans. \n",
    "* Analysis: In the given code we are taking input from user in the form of '0' & '1' and we are converting it into boolean data with the help of 'bool' keyword in the line 1. When we are checking condition for 'if' statement, we are expecting that the variable ***class_started*** is holding data either '0' or '1' but, it is holding the data as 'True' or 'False'.\n",
    "\n",
    "* Change: In the line 1 of code I have replaced ***bool*** keyword with ***int*** which changes the type of date of variable ***class_started*** and with that I'm getting theresult.\n",
    "* Below is the code with changes.\n",
    "\n",
    "\n"
   ]
  },
  {
   "cell_type": "code",
   "execution_count": 1,
   "metadata": {
    "colab": {
     "base_uri": "https://localhost:8080/"
    },
    "id": "OWDBeE0CDYNg",
    "outputId": "a4075030-96bc-4b38-ce8d-b3390fb299fe"
   },
   "outputs": [
    {
     "name": "stdout",
     "output_type": "stream",
     "text": [
      "Hey friend, is class started?: [0-False/1-True]1\n",
      "the class is started...\n",
      "Lets concentrate\n"
     ]
    }
   ],
   "source": [
    "class_started = int(input(\"Hey friend, is class started?: [0-False/1-True]\"))\n",
    "\n",
    "if class_started:\n",
    "  print(\"the class is started...\")\n",
    "  print(\"Lets concentrate\")\n",
    "else:\n",
    "  print(\"the class is not started...\")\n",
    "  print(\"let's revise\")    "
   ]
  },
  {
   "cell_type": "code",
   "execution_count": 2,
   "metadata": {
    "colab": {
     "base_uri": "https://localhost:8080/"
    },
    "id": "Jv5TGHKRCP2U",
    "outputId": "4d37a156-39c8-4bb7-b678-f5526351fcd3"
   },
   "outputs": [
    {
     "name": "stdout",
     "output_type": "stream",
     "text": [
      "Hey friend, is class started?: [0-False/1-True]0\n",
      "the class is not started...\n",
      "let's revise\n"
     ]
    }
   ],
   "source": [
    "class_started = int(input(\"Hey friend, is class started?: [0-False/1-True]\"))\n",
    "\n",
    "if class_started:\n",
    "  print(\"the class started...\")\n",
    "  print(\"Lets concentrate\")\n",
    "else:\n",
    "  print(\"the class is not started...\")\n",
    "  print(\"let's revise\") "
   ]
  },
  {
   "cell_type": "markdown",
   "metadata": {
    "id": "ZAZiMqH-EGA4"
   },
   "source": [
    "3. Use if else condition to verify that datatype of `input()` method in python is always string."
   ]
  },
  {
   "cell_type": "code",
   "execution_count": null,
   "metadata": {
    "colab": {
     "base_uri": "https://localhost:8080/"
    },
    "id": "EIAJZtJSGxEL",
    "outputId": "9513b334-26ce-4859-a85f-17d2b858aa7f"
   },
   "outputs": [
    {
     "name": "stdout",
     "output_type": "stream",
     "text": [
      "enter number : 7\n",
      "Input data is of string type\n"
     ]
    }
   ],
   "source": [
    "val = input(\"enter number : \")\n",
    "\n",
    "if type(val) == str:\n",
    "  print (\"Input data is of string type\")\n",
    "else:\n",
    "  print (\"Input data is not of string type\")"
   ]
  },
  {
   "cell_type": "code",
   "execution_count": 2,
   "metadata": {
    "colab": {
     "base_uri": "https://localhost:8080/"
    },
    "id": "n4Ogpd0zClGC",
    "outputId": "9350fbb5-8666-4026-c92a-18a0b48915ce"
   },
   "outputs": [
    {
     "name": "stdout",
     "output_type": "stream",
     "text": [
      "enter number : 55 89 25\n",
      "Input data is of string type\n"
     ]
    }
   ],
   "source": [
    "val = input(\"enter number : \")\n",
    "\n",
    "if type(val) == str:\n",
    "  print (\"Input data is of string type\")\n",
    "else:\n",
    "  print (\"Input data is not of string type\")"
   ]
  },
  {
   "cell_type": "markdown",
   "metadata": {
    "id": "XCuDaF6CJskE"
   },
   "source": [
    "4. Take 3 variables and assign integer values to them. Find the largest variable, by only using the if and else conditions."
   ]
  },
  {
   "cell_type": "code",
   "execution_count": 3,
   "metadata": {
    "colab": {
     "base_uri": "https://localhost:8080/"
    },
    "id": "cku9dGXmJxTj",
    "outputId": "55b9a2f0-3204-4f28-be42-5d8cc64da2cf"
   },
   "outputs": [
    {
     "name": "stdout",
     "output_type": "stream",
     "text": [
      "The largest is c having value 150\n"
     ]
    }
   ],
   "source": [
    "a, b, c = 55, 27, 150\n",
    "\n",
    "if a > b and a > c:\n",
    "  print(f\"The largest is a having value {a}\")\n",
    "elif b > a and b > c:\n",
    "  print(f\"The largest is b having value {b}\")\n",
    "else:\n",
    "  print(f\"The largest is c having value {c}\")"
   ]
  },
  {
   "cell_type": "markdown",
   "metadata": {
    "id": "2PpcxyLOMjOW"
   },
   "source": [
    "5. What would be the solution?\n",
    "    1. True\n",
    "    2. False\n",
    "\n",
    "```python\n",
    "    a = 6\n",
    "    b = 10\n",
    "    print( not ( not a == 10 or not b == 10) )\n",
    "    ```\n",
    "\n",
    "Ans:  Solution would be **False**. \n",
    "1. (not a == 10) => True\n",
    "2. (not b == 10) => False\n",
    "3. (not a == 10 or not b == 10) => True\n",
    "4. not( not a == 10 or not b == 10) => False"
   ]
  },
  {
   "cell_type": "code",
   "execution_count": 4,
   "metadata": {
    "colab": {
     "base_uri": "https://localhost:8080/"
    },
    "id": "ndoENZ5QM2qe",
    "outputId": "27880f11-fd4b-446a-9ba9-2c77aafcecd6"
   },
   "outputs": [
    {
     "name": "stdout",
     "output_type": "stream",
     "text": [
      "False\n"
     ]
    }
   ],
   "source": [
    "a = 6\n",
    "b = 10\n",
    "print( not ( not a == 10 or not b == 10) )"
   ]
  },
  {
   "cell_type": "markdown",
   "metadata": {
    "id": "E84Lk6HpOujg"
   },
   "source": [
    "6. Find the answer as well as find out the reason behind the result? -\n",
    "\n",
    "*   Case 1\n",
    "\n",
    "    ```python\n",
    "    A = 5.0\n",
    "    B = 10/2\n",
    "    print(A == B)\n",
    "    ```\n",
    "\n",
    "*   Case 2\n",
    "\n",
    "  ```python\n",
    "  A = 5.0\n",
    "  B = int(10/2)\n",
    "  print(A == B)\n",
    "  ```\n",
    "* Case 3\n",
    "\n",
    "  ```python\n",
    "  A = 5.0\n",
    "  B = float(10/2)\n",
    "  print(A is B)\n",
    "  ```\n",
    "\n",
    "\n",
    "---\n",
    "\n",
    "\n",
    "Ans: \n",
    "1. **Case 1 is True**. Reason: A = 5.0 and B = 10/2 = 5.0. Hence, A is B => True.\n",
    "2. **Case 2 is False**. Reason: A = 5.0 and B = int(10/2) = 5. Hence A is B => False.\n",
    "3. **Case 3 is True**. Reason: A = 5.0 and B = float(10/2) = 5.0. Hence, A is B => True."
   ]
  },
  {
   "cell_type": "code",
   "execution_count": 6,
   "metadata": {
    "colab": {
     "base_uri": "https://localhost:8080/"
    },
    "id": "Lv2q53EHPAW8",
    "outputId": "d8acc86c-ed7f-4138-c9bc-5172f600f1ea"
   },
   "outputs": [
    {
     "name": "stdout",
     "output_type": "stream",
     "text": [
      "<class 'float'>\n",
      "<class 'float'>\n",
      "1691277301200\n",
      "1691278356176\n",
      "True\n"
     ]
    }
   ],
   "source": [
    "A = 5.0\n",
    "B = 10/2\n",
    "print(type(A))\n",
    "print(type(B))\n",
    "print(id(A))\n",
    "print(id(B))\n",
    "print(A == B)"
   ]
  },
  {
   "cell_type": "code",
   "execution_count": 8,
   "metadata": {
    "colab": {
     "base_uri": "https://localhost:8080/"
    },
    "id": "LoWtMDL4Sk5s",
    "outputId": "82760684-eb16-422c-d71f-3742424e092a"
   },
   "outputs": [
    {
     "name": "stdout",
     "output_type": "stream",
     "text": [
      "<class 'float'>\n",
      "<class 'int'>\n",
      "1691278025424\n",
      "1691191962032\n",
      "False\n"
     ]
    }
   ],
   "source": [
    "A = 5.0\n",
    "B =int(10/2)\n",
    "print(type(A))\n",
    "print(type(B))\n",
    "print(id(A))\n",
    "print(id(B))\n",
    "print(A is B)"
   ]
  },
  {
   "cell_type": "code",
   "execution_count": 10,
   "metadata": {
    "colab": {
     "base_uri": "https://localhost:8080/"
    },
    "id": "-2-XLitIUClx",
    "outputId": "721b8773-2ee0-45ac-d0a5-52777bfdade5"
   },
   "outputs": [
    {
     "name": "stdout",
     "output_type": "stream",
     "text": [
      "<class 'float'>\n",
      "<class 'float'>\n",
      "1691277301200\n",
      "1691278356176\n",
      "True\n"
     ]
    }
   ],
   "source": [
    "A = 5.0\n",
    "B =float(10/2)\n",
    "print(type(A))\n",
    "print(type(B))\n",
    "print(id(A))\n",
    "print(id(B))\n",
    "print(A == B)"
   ]
  },
  {
   "cell_type": "markdown",
   "metadata": {
    "id": "U9NTkJlVUxMY"
   },
   "source": [
    "### Try to understand the following examples and answer the question based on it - \n",
    "    \n",
    "**Arithmatic Operators**\n",
    "\n",
    "|Operation|Meaning|\n",
    "|:-:|:-:|\n",
    "| **+** |addition|\n",
    "| **-** |subtraction|\n",
    "| **\\*** |multiplication|\n",
    "| **/** |true division|\n",
    "| **//** |integer division|\n",
    "| **%** |the modulo operator|\n",
    "\n",
    "\n",
    "Here `+`, `-`, `*`, `/` are regular arithmatic operators. Lets look at the `//` and `%` operators\n",
    "\n",
    "Usecase or examples - \n",
    "    \n",
    "```python\n",
    "var_a = 5\n",
    "var_b = 25\n",
    "integer_division = var_b // var_a\n",
    "print(f\"integer division: {var_b}/{var_a}={integer_division}\")\n",
    "```\n",
    "\n",
    "OUTPUT: integer division: 25/5=5\n",
    "\n",
    "```python\n",
    "var_a = 3\n",
    "var_b = 25\n",
    "integer_division = var_b // var_a\n",
    "print(f\"integer division: {var_b}/{var_a}={integer_division}\")\n",
    "```\n",
    "\n",
    "OUTPUT: integer division: 25/3=8\n",
    "\n",
    "```python\n",
    "var_a = 5\n",
    "var_b = 25\n",
    "remainder = var_b % var_a\n",
    "print(f\"remainder: {var_b}/{var_a} is {remainder}\")\n",
    "```\n",
    "\n",
    "OUTPUT: remainder: 25/5 is 0\n",
    "\n",
    "```python\n",
    "var_a = 3\n",
    "var_b = 25\n",
    "remainder = var_b % var_a\n",
    "print(f\"remainder: {var_b}/{var_a} is {remainder}\")\n",
    "```\n",
    "\n",
    "OUTPUT: remainder: 25/3 is 1"
   ]
  },
  {
   "cell_type": "markdown",
   "metadata": {
    "id": "4Ui4fK7-VFZs"
   },
   "source": [
    "### Answer below questions on the above theory - \n",
    "\n",
    "7. Write a program that asks the user to enter a number. You should print out a message to the user, either “That number is divisible by either 3 or 5”, or “That number is not divisible by either 3 or 5”. Be sure to consider the data type of the input you are taking in from the user. Use a single if/else block to solve this problem.\n",
    "\n",
    "8. Take user input for length and width. Then calculate the area of rectangle. Also print as per length and width whether its a square of rectangle.\n",
    "\n",
    "9. Take two variable radius_1 and radius_2 and calculate the area of circle_1 and circle_2. Also print which circle has large area. If area is equal then print area is equal.\n",
    "\n",
    "10. Check whether a year is leap year or not. Use nested if...else to solve this problem. A leap year is exactly divisible by 4 except for century years (years ending with 00). The century year is a leap year only if it is perfectly divisible by 400."
   ]
  },
  {
   "cell_type": "code",
   "execution_count": 8,
   "metadata": {
    "colab": {
     "base_uri": "https://localhost:8080/"
    },
    "id": "Dk_g7D1uVq3U",
    "outputId": "5687578e-f6d8-42b2-fec2-d024cbd30984"
   },
   "outputs": [
    {
     "name": "stdout",
     "output_type": "stream",
     "text": [
      "Enter a number: 15\n",
      "That number is divisible by either 3 or 5\n"
     ]
    }
   ],
   "source": [
    "# 7. Write a program that asks the user to enter a number. \n",
    "# You should print out a message to the user, either “That number is divisible by either 3 or 5”, or “That number is not divisible by either 3 or 5”. \n",
    "# Be sure to consider the data type of the input you are taking in from the user. Use a single if/else block to solve this problem.\n",
    "\n",
    "num = int(input(\"Enter a number: \"))\n",
    "\n",
    "if num % 3 == 0 or num % 5 == 0:\n",
    "  print(\"That number is divisible by either 3 or 5\")\n",
    "else:\n",
    "  print(\"That number is not divisible by either 3 or 5\")"
   ]
  },
  {
   "cell_type": "code",
   "execution_count": 10,
   "metadata": {
    "colab": {
     "base_uri": "https://localhost:8080/"
    },
    "id": "Alt64_qiW4sY",
    "outputId": "bed9feaf-1cf2-47c2-cb88-0824be411319"
   },
   "outputs": [
    {
     "name": "stdout",
     "output_type": "stream",
     "text": [
      "Enter the length: 7.5\n",
      "Enter the breadth: 7.5\n",
      "Area: 56.25\n",
      "It is a SQUARE\n"
     ]
    }
   ],
   "source": [
    "# 8. Take user input for length and width. Then calculate the area of rectangle. \n",
    "# Also print as per length and width whether its a square of rectangle.\n",
    "\n",
    "length = float(input('Enter the length: '))\n",
    "width = float(input('Enter the breadth: '))\n",
    "area = length * width\n",
    "print(f\"Area: {area}\")\n",
    "\n",
    "if length == width:\n",
    "  print(\"It is a SQUARE\")\n",
    "else:\n",
    "  print(\"It is a RECTANGLE\")"
   ]
  },
  {
   "cell_type": "code",
   "execution_count": 12,
   "metadata": {
    "colab": {
     "base_uri": "https://localhost:8080/"
    },
    "id": "zXttOslla2uH",
    "outputId": "f1c18667-a513-4d23-ebde-8320c29ee4df"
   },
   "outputs": [
    {
     "name": "stdout",
     "output_type": "stream",
     "text": [
      "Enter the radius for circle1: 5.5\n",
      "Enter the radius for circle2: 7.5\n",
      "Circle 2 has larger area: 176.625\n"
     ]
    }
   ],
   "source": [
    "# 9. Take two variable radius_1 and radius_2 and calculate the area of circle_1 and circle_2. \n",
    "# Also print which circle has large area. If area is equal then print area is equal.\n",
    "\n",
    "pi = 3.14\n",
    "radius1 = float(input(\"Enter the radius for circle1: \"))\n",
    "radius2 = float(input(\"Enter the radius for circle2: \"))\n",
    "area_of_cicle1 = pi * radius1 * radius1\n",
    "area_of_circle2 = pi * radius2 * radius2\n",
    "\n",
    "if area_of_cicle1 == area_of_circle2:\n",
    "  print(\"Areas are equal\")\n",
    "elif area_of_cicle1 > area_of_circle2:\n",
    "  print(f\"Circle 1 has larger area: {area_of_cicle1}\")\n",
    "else:\n",
    "    print(f\"Circle 2 has larger area: {area_of_circle2}\")\n"
   ]
  },
  {
   "cell_type": "code",
   "execution_count": 13,
   "metadata": {
    "colab": {
     "base_uri": "https://localhost:8080/"
    },
    "id": "loGS2mqyjUqt",
    "outputId": "11c41e8c-451f-412e-90a8-821cd9aece1f"
   },
   "outputs": [
    {
     "name": "stdout",
     "output_type": "stream",
     "text": [
      "Enter a year: 2026\n",
      "2026 is not a leap year.\n"
     ]
    }
   ],
   "source": [
    "# 10. Check whether a year is leap year or not. Use nested if...else to solve this problem. \n",
    "# A leap year is exactly divisible by 4 except for century years (years ending with 00). \n",
    "# The century year is a leap year only if it is perfectly divisible by 400.\n",
    "\n",
    "year = int(input(\"Enter a year: \"))\n",
    "\n",
    "if ( ((year % 4 == 0) and (year % 100 != 0)) or (year % 400==0) ):\n",
    "  print(f\"{year} is a leap year.\")\n",
    "else:\n",
    "  print(f\"{year} is not a leap year.\")"
   ]
  },
  {
   "cell_type": "code",
   "execution_count": null,
   "metadata": {},
   "outputs": [],
   "source": []
  }
 ],
 "metadata": {
  "colab": {
   "collapsed_sections": [
    "U9NTkJlVUxMY",
    "4Ui4fK7-VFZs"
   ],
   "provenance": []
  },
  "kernelspec": {
   "display_name": "Python 3 (ipykernel)",
   "language": "python",
   "name": "python3"
  },
  "language_info": {
   "codemirror_mode": {
    "name": "ipython",
    "version": 3
   },
   "file_extension": ".py",
   "mimetype": "text/x-python",
   "name": "python",
   "nbconvert_exporter": "python",
   "pygments_lexer": "ipython3",
   "version": "3.9.12"
  }
 },
 "nbformat": 4,
 "nbformat_minor": 1
}
